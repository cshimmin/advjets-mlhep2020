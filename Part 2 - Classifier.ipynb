{
 "cells": [
  {
   "cell_type": "code",
   "execution_count": 1,
   "metadata": {},
   "outputs": [],
   "source": [
    "%load_ext autoreload\n",
    "%autoreload 2"
   ]
  },
  {
   "cell_type": "code",
   "execution_count": 21,
   "metadata": {},
   "outputs": [],
   "source": [
    "import torch\n",
    "from torch import nn\n",
    "import torch.nn.functional as F"
   ]
  },
  {
   "cell_type": "code",
   "execution_count": 3,
   "metadata": {},
   "outputs": [],
   "source": [
    "import numpy as np\n",
    "import matplotlib.pyplot as plt"
   ]
  },
  {
   "cell_type": "code",
   "execution_count": 70,
   "metadata": {},
   "outputs": [],
   "source": [
    "import adv\n",
    "from adv import to_jet, center_on"
   ]
  },
  {
   "cell_type": "code",
   "execution_count": 5,
   "metadata": {},
   "outputs": [
    {
     "name": "stdout",
     "output_type": "stream",
     "text": [
      "CUDA Available:  True\n"
     ]
    }
   ],
   "source": [
    "print(\"CUDA Available: \",torch.cuda.is_available())\n",
    "device = torch.device(\"cuda\" if torch.cuda.is_available() else \"cpu\")"
   ]
  },
  {
   "cell_type": "markdown",
   "metadata": {},
   "source": [
    "## Load in the Z+Jets dataset:"
   ]
  },
  {
   "cell_type": "code",
   "execution_count": 6,
   "metadata": {},
   "outputs": [
    {
     "name": "stderr",
     "output_type": "stream",
     "text": [
      "/ssd/scratch/cshimmin/.virtualenvs/jupyter/lib/python3.6/site-packages/torch/cuda/__init__.py:87: UserWarning: \n",
      "    Found GPU4 Quadro K420 which is of cuda capability 3.0.\n",
      "    PyTorch no longer supports this GPU because it is too old.\n",
      "    The minimum cuda capability that we support is 3.5.\n",
      "    \n",
      "  warnings.warn(old_gpu_warn % (d, name, major, capability[1]))\n"
     ]
    }
   ],
   "source": [
    "ds = adv.ZJetsDataset(device=device, use_cache=True)\n",
    "\n",
    "n_train = int(0.8*len(ds))\n",
    "n_val = len(ds)-n_train\n",
    "\n",
    "ds_train, ds_val = torch.utils.data.random_split(ds, (n_train, n_val))\n",
    "\n",
    "x_train, y_train = ds_train[:]\n",
    "x_val, y_val = ds_val[:]"
   ]
  },
  {
   "cell_type": "markdown",
   "metadata": {},
   "source": [
    "## Build a deep-sets classifier\n",
    "The \"deep sets\" architecture ([arXiv:1703.06114](https://arxiv.org/abs/1703.06114)) is useful for this problem, as it is *permutation invariant*.\n",
    "Since we often order particles by descending pT as a convention, our adversary might simply learn to disturb this order, which is not a concern, since we would fix that issue in preprocessing.\n",
    "\n",
    "Similarly, while it is very helpful to center the particles about their jet axis, we will do this step *within the network*, rather than as a preprocessing step. That is, we will also make our network invariant to shifts in the (eta, phi) of the jet axis, since we would conventionally remove any such shift in preprocessing, and therefore don't care about adversarial attacks on this feature.\n",
    "\n",
    "Deep sets may sound exotic, but basically one just has to apply a neural network to each of the (variable-length) inputs, to encode or embed the original observables into an abstract latent space. Then we simply sum the result and feed it into a normal dense classifier network."
   ]
  },
  {
   "cell_type": "code",
   "execution_count": 18,
   "metadata": {},
   "outputs": [],
   "source": [
    "# Simple deep-sets type classifier.\n",
    "# It expects as input a tensor with shape (d1, d2, ... , dn-1, dn, 3).\n",
    "# In our case \"dn\" should correspond to the number of particles, which will get summed over.\n",
    "# The latent space encoding will have shape (d1, d2, ... , dn-1, L),\n",
    "# where L is a hyperparameter representing the dimensionality of the latent space.\n",
    "# The output will have shape (d1, d2, ..., dn-1, 2), where the last dimension are\n",
    "# raw logits for binary crossentropy.\n",
    "class JetClassifier(torch.nn.Module):\n",
    "    def __init__(self, L=32, u=128):\n",
    "        super(JetClassifier, self).__init__()\n",
    "        \n",
    "        # \"inner\" network. An identical copy of\n",
    "        # this subnetwork is applied to each input\n",
    "        # independently.\n",
    "        self.f1 = torch.nn.ModuleList([\n",
    "            nn.Linear(3,u),\n",
    "            nn.Dropout(0.25),\n",
    "            nn.Linear(u, u),\n",
    "            nn.Dropout(0.25),\n",
    "            nn.Linear(u, L),\n",
    "        ])\n",
    "        \n",
    "        # \"outer\" network. Simple dense network that\n",
    "        # acts on the L-dimensional summed latent space\n",
    "        # encoding, and outputs 2 categorical logits for\n",
    "        # classification score.\n",
    "        self.f2 = torch.nn.ModuleList([\n",
    "            nn.Linear(L, u),\n",
    "            nn.Linear(u, u),\n",
    "            nn.Linear(u, 2),\n",
    "        ])\n",
    "        \n",
    "    def forward(self, x0):\n",
    "        # we peel off the pT of each input particle, in order\n",
    "        # to define a mask. Only particles with nonzero pT\n",
    "        # will contribute to the latent space sum.\n",
    "        # this is a convenient way to handle a variable-length input\n",
    "        # with a fixed input tensor size.\n",
    "        pt0 = torch.split(x0, 1, dim=-1)[0]\n",
    "        \n",
    "        # compute the jet kinematics for the particles in x0\n",
    "        j = to_jet(x0)\n",
    "        # center the particles about their jet axis\n",
    "        x = center_on(j, x0)\n",
    "        \n",
    "        for l in self.f1[:-1]:\n",
    "            x = F.relu(l(x))\n",
    "        x = self.f1[-1](x)\n",
    "        \n",
    "        x = torch.sum((pt0>0)*x, axis=-2)\n",
    "        \n",
    "        for l in self.f2[:-1]:\n",
    "            x = F.relu(l(x))\n",
    "        x = self.f2[-1](x)\n",
    "        return x"
   ]
  },
  {
   "cell_type": "markdown",
   "metadata": {},
   "source": [
    "## Train the network\n",
    "\n",
    "This is just your standard supervised training loop:"
   ]
  },
  {
   "cell_type": "code",
   "execution_count": 52,
   "metadata": {},
   "outputs": [],
   "source": [
    "model = JetClassifier().to(device)\n",
    "\n",
    "# note: we are opting not to reduce the loss function, for reasons that will matter later on.\n",
    "# normally, the average is taken so that the loss is a scalar\n",
    "# that can be optimized.\n",
    "model.loss_fn = nn.CrossEntropyLoss(reduction='none')\n",
    "\n",
    "optimizer = torch.optim.Adam(model.parameters())\n",
    "\n",
    "# to store metrics history\n",
    "h = {}\n",
    "\n",
    "# you might need to adjust these depending on your available GPU memory.\n",
    "batch_size = 1024\n",
    "val_batch_size = 4096"
   ]
  },
  {
   "cell_type": "code",
   "execution_count": 68,
   "metadata": {},
   "outputs": [
    {
     "name": "stdout",
     "output_type": "stream",
     "text": [
      "Training epoch 0\n",
      "    loss: 0.4607   acc: 0.788    val_loss: 0.4626   val_acc: 0.786\n",
      "Training epoch 1\n",
      "    loss: 0.4602   acc: 0.789    val_loss: 0.4480   val_acc: 0.795\n",
      "Training epoch 2\n",
      "    loss: 0.4593   acc: 0.789    val_loss: 0.4572   val_acc: 0.789\n",
      "Training epoch 3\n",
      "    loss: 0.4585   acc: 0.790    val_loss: 0.4602   val_acc: 0.787\n",
      "Training epoch 4\n",
      "    loss: 0.4573   acc: 0.790    val_loss: 0.4472   val_acc: 0.795\n",
      "Training epoch 5\n",
      "    loss: 0.4579   acc: 0.790    val_loss: 0.4508   val_acc: 0.794\n",
      "Training epoch 6\n",
      "    loss: 0.4572   acc: 0.790    val_loss: 0.4532   val_acc: 0.791\n",
      "Training epoch 7\n",
      "    loss: 0.4558   acc: 0.791    val_loss: 0.4554   val_acc: 0.792\n",
      "Training epoch 8\n",
      "    loss: 0.4561   acc: 0.791    val_loss: 0.4547   val_acc: 0.791\n",
      "Training epoch 9\n",
      "    loss: 0.4556   acc: 0.791    val_loss: 0.4535   val_acc: 0.792\n",
      "Training epoch 10\n",
      "    loss: 0.4551   acc: 0.792    val_loss: 0.4459   val_acc: 0.797\n",
      "Training epoch 11\n",
      "    loss: 0.4544   acc: 0.792    val_loss: 0.4490   val_acc: 0.794\n",
      "Training epoch 12\n",
      "    loss: 0.4543   acc: 0.793    val_loss: 0.4547   val_acc: 0.792\n",
      "Training epoch 13\n",
      "    loss: 0.4542   acc: 0.793    val_loss: 0.4460   val_acc: 0.797\n",
      "Training epoch 14\n",
      "    loss: 0.4532   acc: 0.793    val_loss: 0.4452   val_acc: 0.796\n",
      "Training epoch 15\n",
      "    loss: 0.4530   acc: 0.793    val_loss: 0.4465   val_acc: 0.796\n"
     ]
    }
   ],
   "source": [
    "epochs = 8\n",
    "\n",
    "nbatch_train = x_train.shape[0]//batch_size\n",
    "nbatch_val = x_val.shape[0]//val_batch_size\n",
    "\n",
    "for ep in range(epochs):\n",
    "    running_loss = 0\n",
    "    running_acc = 0\n",
    "    \n",
    "    # set the model to train mode (activates dropout)\n",
    "    model.train()\n",
    "    \n",
    "    # shuffle the data indices\n",
    "    idxs = torch.randperm(x_train.shape[0], device=device)\n",
    "    \n",
    "    print(\"Training epoch\", ep)\n",
    "    \n",
    "    for ib in range(nbatch_train):\n",
    "        bidx = idxs[ib*batch_size:(ib+1)*batch_size]\n",
    "        x, y = x_train[bidx], y_train[bidx]\n",
    "        \n",
    "        optimizer.zero_grad()\n",
    "        \n",
    "        outputs = model(x)\n",
    "        running_acc += (torch.max(outputs, axis=1)[1] == y).sum().item()\n",
    "        \n",
    "        loss = model.loss_fn(outputs, torch.squeeze(y,axis=-1)).mean()\n",
    "        \n",
    "        loss.backward()\n",
    "        optimizer.step()\n",
    "        running_loss += loss.item()\n",
    "    \n",
    "    running_loss /= (len(x_train)//batch_size)\n",
    "    running_acc /= len(x_train)\n",
    "    \n",
    "    model.eval()\n",
    "    with torch.no_grad():\n",
    "        val_acc = 0\n",
    "        val_loss = 0\n",
    "\n",
    "        for ib in range(nbatch_val):\n",
    "            x = x_val[ib*val_batch_size:(ib+1)*val_batch_size]\n",
    "            y = y_val[ib*val_batch_size:(ib+1)*val_batch_size]\n",
    "            output = model(x)\n",
    "            loss = model.loss_fn(output, y).mean()\n",
    "            val_loss += loss.item()\n",
    "            val_acc += (torch.max(output,axis=1)[1] == y).sum().item()\n",
    "        val_loss /= nbatch_val\n",
    "        val_acc /= nbatch_val*val_batch_size\n",
    "    \n",
    "    print(\"    loss: %.4f   acc: %.3f    val_loss: %.4f   val_acc: %.3f\" % (running_loss, running_acc, val_loss, val_acc))\n",
    "    \n",
    "    h.setdefault('loss', []).append(running_loss)\n",
    "    h.setdefault('acc', []).append(running_acc)\n",
    "    h.setdefault('val_loss', []).append(val_loss)\n",
    "    h.setdefault('val_acc', []).append(val_acc)"
   ]
  },
  {
   "cell_type": "markdown",
   "metadata": {},
   "source": [
    "## Training Results\n",
    "You should get to ~80% accuracy pretty quick.\n",
    "\n",
    "We can also inspect the distribution of the NN predictions to see that it has done a farily good job of separating signal from background. Note that in making the second figure, we must convert the raw logit output of the network to softmax in order to interpret it as a posterior probability."
   ]
  },
  {
   "cell_type": "code",
   "execution_count": 71,
   "metadata": {},
   "outputs": [
    {
     "data": {
      "image/png": "[encoded data removed]",
      "text/plain": [
       "<Figure size 960x288 with 2 Axes>"
      ]
     },
     "metadata": {
      "needs_background": "light"
     },
     "output_type": "display_data"
    }
   ],
   "source": [
    "plt.figure(figsize=plt.figaspect(0.3))\n",
    "xep = np.arange(len(h['loss']))+1\n",
    "plt.subplot(121)\n",
    "plt.plot(xep, h['loss'], label='train')\n",
    "plt.plot(xep, h['val_loss'], label='val')\n",
    "plt.xlabel('Epoch')\n",
    "plt.ylabel('Loss')\n",
    "plt.legend()\n",
    "plt.subplot(122)\n",
    "plt.plot(xep, h['acc'], label='train')\n",
    "plt.plot(xep, h['val_acc'], label='val')\n",
    "plt.xlabel('Epoch')\n",
    "plt.ylabel('Accuracy');"
   ]
  },
  {
   "cell_type": "code",
   "execution_count": 72,
   "metadata": {},
   "outputs": [],
   "source": [
    "npred = 2048 # reduce if you're out of GPU memory\n",
    "with torch.no_grad():\n",
    "    model.eval()\n",
    "    pred_val = torch.softmax(model(x_val[:npred]), axis=-1)[:,1].cpu().numpy()"
   ]
  },
  {
   "cell_type": "code",
   "execution_count": 73,
   "metadata": {},
   "outputs": [
    {
     "data": {
      "image/png": "[encoded data removed]",
      "text/plain": [
       "<Figure size 432x288 with 1 Axes>"
      ]
     },
     "metadata": {
      "needs_background": "light"
     },
     "output_type": "display_data"
    }
   ],
   "source": [
    "plt.hist([pred_val[y_val[:npred].cpu()==0], pred_val[y_val[:npred].cpu()==1]],\n",
    "         histtype='step', bins=50, range=(0,1), fill=True, alpha=0.3, color=['C0','C1'], label=['bg', 'sig']);\n",
    "plt.xlabel(\"P(signal | x) [NN Prediction]\");\n",
    "plt.legend(loc='upper center', ncol=2);"
   ]
  },
  {
   "cell_type": "markdown",
   "metadata": {},
   "source": [
    "## Save model\n",
    "\n",
    "Let's save our trained up model so that we can use it right away in the next notebook."
   ]
  },
  {
   "cell_type": "code",
   "execution_count": 74,
   "metadata": {},
   "outputs": [
    {
     "name": "stderr",
     "output_type": "stream",
     "text": [
      "/ssd/scratch/cshimmin/.virtualenvs/jupyter/lib/python3.6/site-packages/torch/serialization.py:402: UserWarning: Couldn't retrieve source code for container of type JetClassifier. It won't be checked for correctness upon loading.\n",
      "  \"type \" + obj.__name__ + \". It won't be checked \"\n"
     ]
    }
   ],
   "source": [
    "torch.save(model, 'classifier1.pt')"
   ]
  },
  {
   "cell_type": "code",
   "execution_count": null,
   "metadata": {},
   "outputs": [],
   "source": []
  }
 ],
 "metadata": {
  "kernelspec": {
   "display_name": "Python 3",
   "language": "python",
   "name": "python3"
  },
  "language_info": {
   "codemirror_mode": {
    "name": "ipython",
    "version": 3
   },
   "file_extension": ".py",
   "mimetype": "text/x-python",
   "name": "python",
   "nbconvert_exporter": "python",
   "pygments_lexer": "ipython3",
   "version": "3.6.7"
  }
 },
 "nbformat": 4,
 "nbformat_minor": 4
}
